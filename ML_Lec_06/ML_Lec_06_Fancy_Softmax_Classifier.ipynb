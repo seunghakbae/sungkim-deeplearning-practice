{
 "cells": [
  {
   "cell_type": "code",
   "execution_count": 1,
   "metadata": {},
   "outputs": [],
   "source": [
    "import numpy as np\n",
    "import tensorflow as tf"
   ]
  },
  {
   "cell_type": "code",
   "execution_count": 2,
   "metadata": {},
   "outputs": [],
   "source": [
    "xy = np.loadtxt(\"data-04-zoo.csv\", delimiter=',', dtype=np.float32)"
   ]
  },
  {
   "cell_type": "code",
   "execution_count": 5,
   "metadata": {},
   "outputs": [],
   "source": [
    "x_data = xy[:,0:-1]\n",
    "y_data = xy[:,[-1]]"
   ]
  },
  {
   "cell_type": "code",
   "execution_count": 8,
   "metadata": {
    "scrolled": true
   },
   "outputs": [
    {
     "name": "stdout",
     "output_type": "stream",
     "text": [
      "[[1. 0. 0. ... 0. 0. 1.]\n",
      " [1. 0. 0. ... 1. 0. 1.]\n",
      " [0. 0. 1. ... 1. 0. 0.]\n",
      " ...\n",
      " [1. 0. 0. ... 1. 0. 1.]\n",
      " [0. 0. 1. ... 0. 0. 0.]\n",
      " [0. 1. 1. ... 1. 0. 0.]]\n",
      "[[0.]\n",
      " [0.]\n",
      " [3.]\n",
      " [0.]\n",
      " [0.]\n",
      " [0.]\n",
      " [0.]\n",
      " [3.]\n",
      " [3.]\n",
      " [0.]\n",
      " [0.]\n",
      " [1.]\n",
      " [3.]\n",
      " [6.]\n",
      " [6.]\n",
      " [6.]\n",
      " [1.]\n",
      " [0.]\n",
      " [3.]\n",
      " [0.]\n",
      " [1.]\n",
      " [1.]\n",
      " [0.]\n",
      " [1.]\n",
      " [5.]\n",
      " [4.]\n",
      " [4.]\n",
      " [0.]\n",
      " [0.]\n",
      " [0.]\n",
      " [5.]\n",
      " [0.]\n",
      " [0.]\n",
      " [1.]\n",
      " [3.]\n",
      " [0.]\n",
      " [0.]\n",
      " [1.]\n",
      " [3.]\n",
      " [5.]\n",
      " [5.]\n",
      " [1.]\n",
      " [5.]\n",
      " [1.]\n",
      " [0.]\n",
      " [0.]\n",
      " [6.]\n",
      " [0.]\n",
      " [0.]\n",
      " [0.]\n",
      " [0.]\n",
      " [5.]\n",
      " [4.]\n",
      " [6.]\n",
      " [0.]\n",
      " [0.]\n",
      " [1.]\n",
      " [1.]\n",
      " [1.]\n",
      " [1.]\n",
      " [3.]\n",
      " [3.]\n",
      " [2.]\n",
      " [0.]\n",
      " [0.]\n",
      " [0.]\n",
      " [0.]\n",
      " [0.]\n",
      " [0.]\n",
      " [0.]\n",
      " [0.]\n",
      " [1.]\n",
      " [6.]\n",
      " [3.]\n",
      " [0.]\n",
      " [0.]\n",
      " [2.]\n",
      " [6.]\n",
      " [1.]\n",
      " [1.]\n",
      " [2.]\n",
      " [6.]\n",
      " [3.]\n",
      " [1.]\n",
      " [0.]\n",
      " [6.]\n",
      " [3.]\n",
      " [1.]\n",
      " [5.]\n",
      " [4.]\n",
      " [2.]\n",
      " [2.]\n",
      " [3.]\n",
      " [0.]\n",
      " [0.]\n",
      " [1.]\n",
      " [0.]\n",
      " [5.]\n",
      " [0.]\n",
      " [6.]\n",
      " [1.]]\n"
     ]
    }
   ],
   "source": [
    "print(x_data)\n",
    "print(y_data)"
   ]
  },
  {
   "cell_type": "code",
   "execution_count": 12,
   "metadata": {},
   "outputs": [
    {
     "name": "stdout",
     "output_type": "stream",
     "text": [
      "(101, 16)\n",
      "(101, 1)\n"
     ]
    }
   ],
   "source": [
    "print(x_data.shape)\n",
    "print(y_data.shape)"
   ]
  },
  {
   "cell_type": "code",
   "execution_count": 13,
   "metadata": {},
   "outputs": [],
   "source": [
    "nb_classes = 7 # 0 ~ 6"
   ]
  },
  {
   "cell_type": "code",
   "execution_count": 14,
   "metadata": {},
   "outputs": [],
   "source": [
    "X = tf.placeholder(tf.float32, [None, 16])\n",
    "Y = tf.placeholder(tf.int32, [None, 1])"
   ]
  },
  {
   "cell_type": "code",
   "execution_count": 15,
   "metadata": {},
   "outputs": [],
   "source": [
    "Y_one_hot = tf.one_hot(Y, nb_classes)\n",
    "Y_one_hot = tf.reshape(Y_one_hot, [-1, nb_classes])"
   ]
  },
  {
   "cell_type": "code",
   "execution_count": 16,
   "metadata": {},
   "outputs": [],
   "source": [
    "W = tf.Variable(tf.random_normal([16, nb_classes]), name = 'weight')\n",
    "b = tf.Variable(tf.random_normal([nb_classes]), name = 'bias')"
   ]
  },
  {
   "cell_type": "code",
   "execution_count": 17,
   "metadata": {},
   "outputs": [],
   "source": [
    "logits = tf.matmul(X, W) + b\n",
    "hypothesis = tf.nn.softmax(logits)"
   ]
  },
  {
   "cell_type": "code",
   "execution_count": 18,
   "metadata": {},
   "outputs": [
    {
     "name": "stdout",
     "output_type": "stream",
     "text": [
      "WARNING:tensorflow:From <ipython-input-18-f730c50fac10>:1: softmax_cross_entropy_with_logits (from tensorflow.python.ops.nn_ops) is deprecated and will be removed in a future version.\n",
      "Instructions for updating:\n",
      "\n",
      "Future major versions of TensorFlow will allow gradients to flow\n",
      "into the labels input on backprop by default.\n",
      "\n",
      "See `tf.nn.softmax_cross_entropy_with_logits_v2`.\n",
      "\n"
     ]
    }
   ],
   "source": [
    "cost_i = tf.nn.softmax_cross_entropy_with_logits(logits = logits, labels=Y_one_hot)"
   ]
  },
  {
   "cell_type": "code",
   "execution_count": 19,
   "metadata": {},
   "outputs": [],
   "source": [
    "cost = tf.reduce_mean(cost_i)"
   ]
  },
  {
   "cell_type": "code",
   "execution_count": 20,
   "metadata": {},
   "outputs": [],
   "source": [
    "optimizer = tf.train.GradientDescentOptimizer(learning_rate=0.1).minimize(cost)"
   ]
  },
  {
   "cell_type": "code",
   "execution_count": 21,
   "metadata": {},
   "outputs": [],
   "source": [
    "prediction = tf.argmax(hypothesis, 1)\n",
    "correct_prediction = tf.equal(prediction, tf.argmax(Y_one_hot, 1))\n",
    "accuracy = tf.reduce_mean(tf.cast(correct_prediction, tf.float32))"
   ]
  },
  {
   "cell_type": "code",
   "execution_count": 22,
   "metadata": {},
   "outputs": [
    {
     "name": "stdout",
     "output_type": "stream",
     "text": [
      "Step:     0\t Loss: 4.117 \t Acc: 37.62%\n",
      "Step:   100\t Loss: 0.748 \t Acc: 74.26%\n",
      "Step:   200\t Loss: 0.494 \t Acc: 82.18%\n",
      "Step:   300\t Loss: 0.365 \t Acc: 86.14%\n",
      "Step:   400\t Loss: 0.283 \t Acc: 91.09%\n",
      "Step:   500\t Loss: 0.228 \t Acc: 95.05%\n",
      "Step:   600\t Loss: 0.191 \t Acc: 97.03%\n",
      "Step:   700\t Loss: 0.164 \t Acc: 98.02%\n",
      "Step:   800\t Loss: 0.144 \t Acc: 98.02%\n",
      "Step:   900\t Loss: 0.128 \t Acc: 98.02%\n",
      "Step:  1000\t Loss: 0.115 \t Acc: 99.01%\n",
      "Step:  1100\t Loss: 0.105 \t Acc: 99.01%\n",
      "Step:  1200\t Loss: 0.096 \t Acc: 99.01%\n",
      "Step:  1300\t Loss: 0.089 \t Acc: 99.01%\n",
      "Step:  1400\t Loss: 0.082 \t Acc: 99.01%\n",
      "Step:  1500\t Loss: 0.077 \t Acc: 99.01%\n",
      "Step:  1600\t Loss: 0.072 \t Acc: 100.00%\n",
      "Step:  1700\t Loss: 0.068 \t Acc: 100.00%\n",
      "Step:  1800\t Loss: 0.064 \t Acc: 100.00%\n",
      "Step:  1900\t Loss: 0.060 \t Acc: 100.00%\n",
      "[True] Prediction : 0 True Y: 0\n",
      "[True] Prediction : 0 True Y: 0\n",
      "[True] Prediction : 3 True Y: 3\n",
      "[True] Prediction : 0 True Y: 0\n",
      "[True] Prediction : 0 True Y: 0\n",
      "[True] Prediction : 0 True Y: 0\n",
      "[True] Prediction : 0 True Y: 0\n",
      "[True] Prediction : 3 True Y: 3\n",
      "[True] Prediction : 3 True Y: 3\n",
      "[True] Prediction : 0 True Y: 0\n",
      "[True] Prediction : 0 True Y: 0\n",
      "[True] Prediction : 1 True Y: 1\n",
      "[True] Prediction : 3 True Y: 3\n",
      "[True] Prediction : 6 True Y: 6\n",
      "[True] Prediction : 6 True Y: 6\n",
      "[True] Prediction : 6 True Y: 6\n",
      "[True] Prediction : 1 True Y: 1\n",
      "[True] Prediction : 0 True Y: 0\n",
      "[True] Prediction : 3 True Y: 3\n",
      "[True] Prediction : 0 True Y: 0\n",
      "[True] Prediction : 1 True Y: 1\n",
      "[True] Prediction : 1 True Y: 1\n",
      "[True] Prediction : 0 True Y: 0\n",
      "[True] Prediction : 1 True Y: 1\n",
      "[True] Prediction : 5 True Y: 5\n",
      "[True] Prediction : 4 True Y: 4\n",
      "[True] Prediction : 4 True Y: 4\n",
      "[True] Prediction : 0 True Y: 0\n",
      "[True] Prediction : 0 True Y: 0\n",
      "[True] Prediction : 0 True Y: 0\n",
      "[True] Prediction : 5 True Y: 5\n",
      "[True] Prediction : 0 True Y: 0\n",
      "[True] Prediction : 0 True Y: 0\n",
      "[True] Prediction : 1 True Y: 1\n",
      "[True] Prediction : 3 True Y: 3\n",
      "[True] Prediction : 0 True Y: 0\n",
      "[True] Prediction : 0 True Y: 0\n",
      "[True] Prediction : 1 True Y: 1\n",
      "[True] Prediction : 3 True Y: 3\n",
      "[True] Prediction : 5 True Y: 5\n",
      "[True] Prediction : 5 True Y: 5\n",
      "[True] Prediction : 1 True Y: 1\n",
      "[True] Prediction : 5 True Y: 5\n",
      "[True] Prediction : 1 True Y: 1\n",
      "[True] Prediction : 0 True Y: 0\n",
      "[True] Prediction : 0 True Y: 0\n",
      "[True] Prediction : 6 True Y: 6\n",
      "[True] Prediction : 0 True Y: 0\n",
      "[True] Prediction : 0 True Y: 0\n",
      "[True] Prediction : 0 True Y: 0\n",
      "[True] Prediction : 0 True Y: 0\n",
      "[True] Prediction : 5 True Y: 5\n",
      "[True] Prediction : 4 True Y: 4\n",
      "[True] Prediction : 6 True Y: 6\n",
      "[True] Prediction : 0 True Y: 0\n",
      "[True] Prediction : 0 True Y: 0\n",
      "[True] Prediction : 1 True Y: 1\n",
      "[True] Prediction : 1 True Y: 1\n",
      "[True] Prediction : 1 True Y: 1\n",
      "[True] Prediction : 1 True Y: 1\n",
      "[True] Prediction : 3 True Y: 3\n",
      "[True] Prediction : 3 True Y: 3\n",
      "[True] Prediction : 2 True Y: 2\n",
      "[True] Prediction : 0 True Y: 0\n",
      "[True] Prediction : 0 True Y: 0\n",
      "[True] Prediction : 0 True Y: 0\n",
      "[True] Prediction : 0 True Y: 0\n",
      "[True] Prediction : 0 True Y: 0\n",
      "[True] Prediction : 0 True Y: 0\n",
      "[True] Prediction : 0 True Y: 0\n",
      "[True] Prediction : 0 True Y: 0\n",
      "[True] Prediction : 1 True Y: 1\n",
      "[True] Prediction : 6 True Y: 6\n",
      "[True] Prediction : 3 True Y: 3\n",
      "[True] Prediction : 0 True Y: 0\n",
      "[True] Prediction : 0 True Y: 0\n",
      "[True] Prediction : 2 True Y: 2\n",
      "[True] Prediction : 6 True Y: 6\n",
      "[True] Prediction : 1 True Y: 1\n",
      "[True] Prediction : 1 True Y: 1\n",
      "[True] Prediction : 2 True Y: 2\n",
      "[True] Prediction : 6 True Y: 6\n",
      "[True] Prediction : 3 True Y: 3\n",
      "[True] Prediction : 1 True Y: 1\n",
      "[True] Prediction : 0 True Y: 0\n",
      "[True] Prediction : 6 True Y: 6\n",
      "[True] Prediction : 3 True Y: 3\n",
      "[True] Prediction : 1 True Y: 1\n",
      "[True] Prediction : 5 True Y: 5\n",
      "[True] Prediction : 4 True Y: 4\n",
      "[True] Prediction : 2 True Y: 2\n",
      "[True] Prediction : 2 True Y: 2\n",
      "[True] Prediction : 3 True Y: 3\n",
      "[True] Prediction : 0 True Y: 0\n",
      "[True] Prediction : 0 True Y: 0\n",
      "[True] Prediction : 1 True Y: 1\n",
      "[True] Prediction : 0 True Y: 0\n",
      "[True] Prediction : 5 True Y: 5\n",
      "[True] Prediction : 0 True Y: 0\n",
      "[True] Prediction : 6 True Y: 6\n",
      "[True] Prediction : 1 True Y: 1\n"
     ]
    }
   ],
   "source": [
    "with tf.Session() as sess:\n",
    "    sess.run(tf.global_variables_initializer())\n",
    "    \n",
    "    for step in range(2000):\n",
    "        sess.run(optimizer, feed_dict={X:x_data, Y:y_data})\n",
    "        \n",
    "        if step % 100 == 0:\n",
    "            loss, acc = sess.run([cost, accuracy], feed_dict={X:x_data, Y:y_data})\n",
    "            print(\"Step: {:5}\\t Loss: {:.3f} \\t Acc: {:.2%}\".format(step, loss, acc))\n",
    "            \n",
    "    pred = sess.run(prediction, feed_dict={X:x_data})\n",
    "    \n",
    "    for p, y in zip(pred, y_data.flatten()):\n",
    "        print(\"[{}] Prediction : {} True Y: {}\".format(p == int(y), p, int(y)))"
   ]
  },
  {
   "cell_type": "code",
   "execution_count": null,
   "metadata": {},
   "outputs": [],
   "source": []
  }
 ],
 "metadata": {
  "kernelspec": {
   "display_name": "Python 3",
   "language": "python",
   "name": "python3"
  },
  "language_info": {
   "codemirror_mode": {
    "name": "ipython",
    "version": 3
   },
   "file_extension": ".py",
   "mimetype": "text/x-python",
   "name": "python",
   "nbconvert_exporter": "python",
   "pygments_lexer": "ipython3",
   "version": "3.7.3"
  }
 },
 "nbformat": 4,
 "nbformat_minor": 2
}
