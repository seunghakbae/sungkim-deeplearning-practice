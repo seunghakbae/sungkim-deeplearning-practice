{
 "cells": [
  {
   "cell_type": "markdown",
   "metadata": {},
   "source": [
    "# install Tensorflow"
   ]
  },
  {
   "cell_type": "code",
   "execution_count": 2,
   "metadata": {},
   "outputs": [],
   "source": [
    "import tensorflow as tf"
   ]
  },
  {
   "cell_type": "code",
   "execution_count": 4,
   "metadata": {},
   "outputs": [
    {
     "data": {
      "text/plain": [
       "'1.14.0'"
      ]
     },
     "execution_count": 4,
     "metadata": {},
     "output_type": "execute_result"
    }
   ],
   "source": [
    "# check version\n",
    "tf.__version__"
   ]
  },
  {
   "cell_type": "markdown",
   "metadata": {},
   "source": [
    " # Tensorflow Hello World!"
   ]
  },
  {
   "cell_type": "code",
   "execution_count": 5,
   "metadata": {},
   "outputs": [
    {
     "name": "stdout",
     "output_type": "stream",
     "text": [
      "b'Hello, Tensorflow'\n"
     ]
    }
   ],
   "source": [
    "# create a constant op\n",
    "# This op is added as a node to the default graph\n",
    "hello = tf.constant(\"Hello, Tensorflow\") # 실제로는 그래프 속의 노드가 hello이다. \n",
    "\n",
    "# start a TF session\n",
    "sess = tf.Session()\n",
    "\n",
    "# run the op and get result\n",
    "print(sess.run(hello))\n",
    "\n",
    "# Here, b indicates Byte literals.\n",
    "# node를 만들고 실행시켰다. "
   ]
  },
  {
   "cell_type": "markdown",
   "metadata": {},
   "source": [
    "# Computational Graph\n",
    "\n",
    "Node가 2개 있고, 더하기가 있는 노드와 연결이 되는 간단한 그래프이다. "
   ]
  },
  {
   "cell_type": "code",
   "execution_count": 6,
   "metadata": {},
   "outputs": [],
   "source": [
    "node1 = tf.constant(3.0, tf.float32)\n",
    "node2 = tf.constant(4.0)\n",
    "node3 = tf.add(node1, node2) #혹은, node3 = node1 + node2"
   ]
  },
  {
   "cell_type": "code",
   "execution_count": 7,
   "metadata": {},
   "outputs": [
    {
     "name": "stdout",
     "output_type": "stream",
     "text": [
      "node1:  Tensor(\"Const_1:0\", shape=(), dtype=float32) node2:  Tensor(\"Const_2:0\", shape=(), dtype=float32)\n",
      "node3:  Tensor(\"Add:0\", shape=(), dtype=float32)\n"
     ]
    }
   ],
   "source": [
    "# 결과 값이 나오지 않는다. \n",
    "print(\"node1: \", node1, \"node2: \",node2)\n",
    "print(\"node3: \", node3)"
   ]
  },
  {
   "cell_type": "code",
   "execution_count": 9,
   "metadata": {},
   "outputs": [
    {
     "name": "stdout",
     "output_type": "stream",
     "text": [
      "sess.run(node1, node2):  [3.0, 4.0]\n",
      "sess.run(node3):  7.0\n"
     ]
    }
   ],
   "source": [
    "# 실제 결과값을 보기 위해선, session을 만들고 run해주어야 한다. \n",
    "sess = tf.Session()\n",
    "print(\"sess.run(node1, node2): \", sess.run([node1, node2]))\n",
    "print(\"sess.run(node3): \", sess.run(node3))"
   ]
  },
  {
   "cell_type": "markdown",
   "metadata": {},
   "source": [
    "1. 그래프를 build하고\n",
    "\n",
    "2. session으로 run 한다. \n",
    "\n",
    "3. 그래프에서 값을 update한다. "
   ]
  },
  {
   "cell_type": "markdown",
   "metadata": {},
   "source": [
    " # Placeholder\n",
    " \n",
    "만약 그래프를 만들고, 실행시키는 단계에서 값을 주고 싶으면 어떻게 할것인가?\n",
    " \n",
    "이럴 때도 node를 만드는데, placeholder라는 node를 만든다. "
   ]
  },
  {
   "cell_type": "code",
   "execution_count": 10,
   "metadata": {},
   "outputs": [],
   "source": [
    "a = tf.placeholder(tf.float32)\n",
    "b = tf.placeholder(tf.float32)\n",
    "adder_node = a + b "
   ]
  },
  {
   "cell_type": "code",
   "execution_count": 11,
   "metadata": {},
   "outputs": [
    {
     "name": "stdout",
     "output_type": "stream",
     "text": [
      "7.5\n",
      "[3. 7.]\n"
     ]
    }
   ],
   "source": [
    "# 실제 실행을 할 때, 값을 넘겨준다. \n",
    "print(sess.run(adder_node, feed_dict={a:3, b:4.5}))\n",
    "\n",
    "# 넘겨주고 싶은 동시에 여러개 이면 아래와 같이 넘겨줄수도 있다.\n",
    "print(sess.run(adder_node, feed_dict={a:[1,3], b:[2,4]}))"
   ]
  },
  {
   "cell_type": "markdown",
   "metadata": {},
   "source": [
    "1. 그래프를 정의한다. ex) placeholder\n",
    "2. session을 통해 실행시킬 때, feed_dict으로 값을 넘겨줘야 한다. "
   ]
  },
  {
   "cell_type": "markdown",
   "metadata": {},
   "source": [
    "# Everything is Tensor\n",
    "\n",
    "Tensor라는 것은 기본적으로  array이다. \n",
    "\n",
    "### Ranks\n",
    "rank가 0이면, Scalar, ex) s = 483\n",
    "rank가 1이면, Vector, ex) v = [1.1, 2.2, 3.3]\n",
    "rank가 2이면, Matrix, ex) m = [[1,2,3],[4,5,6],[7,8,9]]\n",
    "rank가 3이면, 3-Tensor, ex) t = [[[2],[4],[6]],[[8],[10],[12]]]\n",
    "rank가 n이면, n-Tensor, .....\n",
    "\n",
    "\n",
    "### Shapes\n",
    "차원에 따라 shape이 다르다. \n",
    "[0],[0,0], [0,0,0].....\n",
    "\n",
    "### Types\n",
    "주로 flaot32를 사용한다. "
   ]
  },
  {
   "cell_type": "code",
   "execution_count": null,
   "metadata": {},
   "outputs": [],
   "source": []
  }
 ],
 "metadata": {
  "kernelspec": {
   "display_name": "Python 3",
   "language": "python",
   "name": "python3"
  },
  "language_info": {
   "codemirror_mode": {
    "name": "ipython",
    "version": 3
   },
   "file_extension": ".py",
   "mimetype": "text/x-python",
   "name": "python",
   "nbconvert_exporter": "python",
   "pygments_lexer": "ipython3",
   "version": "3.7.3"
  }
 },
 "nbformat": 4,
 "nbformat_minor": 2
}
