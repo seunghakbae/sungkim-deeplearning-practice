{
 "cells": [
  {
   "cell_type": "markdown",
   "metadata": {},
   "source": [
    "# Simplified Hypothesis\n",
    "\n",
    "여기서 사용하는 hypothesis는 simple한 것을 사용하겠다. \n",
    "\n",
    "cost는 W의 함수가 된다. cost를 minimize한 다는 것은 cost(W)값이 가장 작아지는 W값을 찾는 것.  "
   ]
  },
  {
   "cell_type": "markdown",
   "metadata": {},
   "source": [
    "![title](Simplified_hypothesis.PNG)"
   ]
  },
  {
   "cell_type": "code",
   "execution_count": 2,
   "metadata": {},
   "outputs": [],
   "source": [
    "import tensorflow as tf\n",
    "import matplotlib.pyplot as plt"
   ]
  },
  {
   "cell_type": "markdown",
   "metadata": {},
   "source": [
    "# cost 함수 시각화"
   ]
  },
  {
   "cell_type": "code",
   "execution_count": 5,
   "metadata": {
    "scrolled": true
   },
   "outputs": [
    {
     "name": "stdout",
     "output_type": "stream",
     "text": [
      "74.666664 -3.0\n",
      "70.98 -2.9\n",
      "67.386665 -2.8\n",
      "63.88667 -2.7\n",
      "60.479992 -2.6\n",
      "57.166668 -2.5\n",
      "53.946674 -2.4\n",
      "50.819996 -2.3\n",
      "47.78667 -2.2\n",
      "44.84666 -2.1\n",
      "42.0 -2.0\n",
      "39.246666 -1.9\n",
      "36.586662 -1.8\n",
      "34.020004 -1.7\n",
      "31.546667 -1.6\n",
      "29.166666 -1.5\n",
      "26.88 -1.4\n",
      "24.686666 -1.3\n",
      "22.58667 -1.2\n",
      "20.58 -1.1\n",
      "18.666666 -1.0\n",
      "16.846666 -0.9\n",
      "15.12 -0.8\n",
      "13.486667 -0.7\n",
      "11.946668 -0.6\n",
      "10.5 -0.5\n",
      "9.146666 -0.4\n",
      "7.886667 -0.3\n",
      "6.72 -0.2\n",
      "5.646666 -0.1\n",
      "4.6666665 0.0\n",
      "3.78 0.1\n",
      "2.986667 0.2\n",
      "2.2866664 0.3\n",
      "1.68 0.4\n",
      "1.1666666 0.5\n",
      "0.7466666 0.6\n",
      "0.42000008 0.7\n",
      "0.18666662 0.8\n",
      "0.04666671 0.9\n",
      "0.0 1.0\n",
      "0.04666671 1.1\n",
      "0.18666674 1.2\n",
      "0.41999987 1.3\n",
      "0.7466665 1.4\n",
      "1.1666666 1.5\n",
      "1.6800003 1.6\n",
      "2.2866673 1.7\n",
      "2.986666 1.8\n",
      "3.7799995 1.9\n",
      "4.6666665 2.0\n",
      "5.646666 2.1\n",
      "6.720001 2.2\n",
      "7.8866653 2.3\n",
      "9.146668 2.4\n",
      "10.5 2.5\n",
      "11.946666 2.6\n",
      "13.486669 2.7\n",
      "15.119998 2.8\n",
      "16.84667 2.9\n",
      "18.666666 3.0\n",
      "20.579996 3.1\n",
      "22.58667 3.2\n",
      "24.686666 3.3\n",
      "26.880005 3.4\n",
      "29.166666 3.5\n",
      "31.546661 3.6\n",
      "34.020004 3.7\n",
      "36.586662 3.8\n",
      "39.24667 3.9\n",
      "42.0 4.0\n",
      "44.84666 4.1\n",
      "47.786663 4.2\n",
      "50.820007 4.3\n",
      "53.946674 4.4\n",
      "57.166668 4.5\n",
      "60.479992 4.6\n",
      "63.886658 4.7\n",
      "67.386665 4.8\n",
      "70.98 4.9\n"
     ]
    },
    {
     "data": {
      "image/png": "[encoded data removed]",
      "text/plain": [
       "<Figure size 432x288 with 1 Axes>"
      ]
     },
     "metadata": {
      "needs_background": "light"
     },
     "output_type": "display_data"
    }
   ],
   "source": [
    "X = [1,2,3]\n",
    "Y = [1,2,3]\n",
    "\n",
    "W = tf.placeholder(tf.float32)\n",
    "# Our hypothesis for linear model X * W\n",
    "hypothesis = W * X\n",
    "\n",
    "# cost/Loss function\n",
    "cost = tf.reduce_mean(tf.square(hypothesis - Y))\n",
    "\n",
    "# Launch the graph in a session\n",
    "sess = tf.Session()\n",
    "\n",
    "# Initializes global variables in the graph.\n",
    "sess.run(tf.global_variables_initializer())\n",
    "\n",
    "# Variables for plotting cost function\n",
    "W_val = []\n",
    "cost_val = []\n",
    "\n",
    "for i in range(-30, 50):\n",
    "    feed_W = i * 0.1\n",
    "    curr_cost, curr_W = sess.run([ cost, W], feed_dict = {W: feed_W})\n",
    "    print(curr_cost, curr_W)\n",
    "    W_val.append(curr_W)\n",
    "    cost_val.append(curr_cost)\n",
    "    \n",
    "plt.plot(W_val, cost_val)\n",
    "plt.show()"
   ]
  },
  {
   "cell_type": "markdown",
   "metadata": {},
   "source": [
    "# Gradient Descent 적용해보기."
   ]
  },
  {
   "cell_type": "code",
   "execution_count": 14,
   "metadata": {},
   "outputs": [
    {
     "name": "stdout",
     "output_type": "stream",
     "text": [
      "0 1.8525503 [1.363765]\n",
      "1 0.52694756 [1.194008]\n",
      "2 0.14988732 [1.1034709]\n",
      "3 0.04263462 [1.0551845]\n",
      "4 0.012127129 [1.0294317]\n",
      "5 0.003449479 [1.0156969]\n",
      "6 0.0009811916 [1.0083717]\n",
      "7 0.00027909025 [1.0044649]\n",
      "8 7.938026e-05 [1.0023812]\n",
      "9 2.2579254e-05 [1.0012699]\n",
      "10 6.423189e-06 [1.0006773]\n",
      "11 1.826558e-06 [1.0003612]\n",
      "12 5.195543e-07 [1.0001926]\n",
      "13 1.4783006e-07 [1.0001028]\n",
      "14 4.2098236e-08 [1.0000548]\n",
      "15 1.1962996e-08 [1.0000292]\n",
      "16 3.4030592e-09 [1.0000156]\n",
      "17 9.748646e-10 [1.0000083]\n",
      "18 2.7553426e-10 [1.0000044]\n",
      "19 7.9580786e-11 [1.0000024]\n",
      "20 2.3149482e-11 [1.0000013]\n"
     ]
    }
   ],
   "source": [
    "import tensorflow as tf\n",
    "x_data = [1,2,3]\n",
    "y_data = [1,2,3]\n",
    "\n",
    "W = tf.Variable(tf.random_normal([1]), name = 'Weight')\n",
    "X = tf.placeholder(tf.float32)\n",
    "Y = tf.placeholder(tf.float32)\n",
    "\n",
    "# Our Hypothesis\n",
    "hypothesis = X * W\n",
    "\n",
    "# cost/loss function\n",
    "cost = tf.reduce_sum(tf.square(hypothesis - Y))\n",
    "\n",
    "# Minimize: Gradient Descent using derivative : W -= learning_rate * derivative\n",
    "learning_rate = 0.1\n",
    "gradient = tf.reduce_mean((W*X - Y) * X)\n",
    "descent = W - learning_rate * gradient\n",
    "update = W.assign(descent)\n",
    "\n",
    "# Launch the graph in a session\n",
    "sess = tf.Session()\n",
    "\n",
    "# Initializes global variables in the graph.\n",
    "sess.run(tf.global_variables_initializer())\n",
    "for step in range(21):\n",
    "    sess.run(update, feed_dict={X:x_data, Y:y_data})\n",
    "    print(step, sess.run(cost, feed_dict={X:x_data, Y:y_data}), sess.run(W))"
   ]
  },
  {
   "cell_type": "markdown",
   "metadata": {},
   "source": [
    "# Using optimizer"
   ]
  },
  {
   "cell_type": "code",
   "execution_count": 18,
   "metadata": {
    "scrolled": true
   },
   "outputs": [
    {
     "name": "stdout",
     "output_type": "stream",
     "text": [
      "0 5.0\n",
      "1 1.2666664\n",
      "2 1.0177778\n",
      "3 1.0011852\n",
      "4 1.000079\n",
      "5 1.0000052\n",
      "6 1.0000004\n",
      "7 1.0\n",
      "8 1.0\n",
      "9 1.0\n",
      "10 1.0\n",
      "11 1.0\n",
      "12 1.0\n",
      "13 1.0\n",
      "14 1.0\n",
      "15 1.0\n",
      "16 1.0\n",
      "17 1.0\n",
      "18 1.0\n",
      "19 1.0\n",
      "20 1.0\n",
      "21 1.0\n",
      "22 1.0\n",
      "23 1.0\n",
      "24 1.0\n",
      "25 1.0\n",
      "26 1.0\n",
      "27 1.0\n",
      "28 1.0\n",
      "29 1.0\n",
      "30 1.0\n",
      "31 1.0\n",
      "32 1.0\n",
      "33 1.0\n",
      "34 1.0\n",
      "35 1.0\n",
      "36 1.0\n",
      "37 1.0\n",
      "38 1.0\n",
      "39 1.0\n",
      "40 1.0\n",
      "41 1.0\n",
      "42 1.0\n",
      "43 1.0\n",
      "44 1.0\n",
      "45 1.0\n",
      "46 1.0\n",
      "47 1.0\n",
      "48 1.0\n",
      "49 1.0\n",
      "50 1.0\n",
      "51 1.0\n",
      "52 1.0\n",
      "53 1.0\n",
      "54 1.0\n",
      "55 1.0\n",
      "56 1.0\n",
      "57 1.0\n",
      "58 1.0\n",
      "59 1.0\n",
      "60 1.0\n",
      "61 1.0\n",
      "62 1.0\n",
      "63 1.0\n",
      "64 1.0\n",
      "65 1.0\n",
      "66 1.0\n",
      "67 1.0\n",
      "68 1.0\n",
      "69 1.0\n",
      "70 1.0\n",
      "71 1.0\n",
      "72 1.0\n",
      "73 1.0\n",
      "74 1.0\n",
      "75 1.0\n",
      "76 1.0\n",
      "77 1.0\n",
      "78 1.0\n",
      "79 1.0\n",
      "80 1.0\n",
      "81 1.0\n",
      "82 1.0\n",
      "83 1.0\n",
      "84 1.0\n",
      "85 1.0\n",
      "86 1.0\n",
      "87 1.0\n",
      "88 1.0\n",
      "89 1.0\n",
      "90 1.0\n",
      "91 1.0\n",
      "92 1.0\n",
      "93 1.0\n",
      "94 1.0\n",
      "95 1.0\n",
      "96 1.0\n",
      "97 1.0\n",
      "98 1.0\n",
      "99 1.0\n"
     ]
    }
   ],
   "source": [
    "# tf Graph Input\n",
    "X = [1,2,3]\n",
    "Y = [1,2,3]\n",
    "\n",
    "# Set Wrong model weights\n",
    "W = tf.Variable(5.0)\n",
    "\n",
    "# Linear Model\n",
    "hypothesis = X * W\n",
    "\n",
    "# cost/Loss function\n",
    "cost = tf.reduce_mean(tf.square(hypothesis - Y))\n",
    "\n",
    "# Minimize : Gradient Descent Magic\n",
    "train = tf.train.GradientDescentOptimizer(learning_rate=0.1).minimize(cost)\n",
    "\n",
    "# Launch the graph in a session\n",
    "sess = tf.Session()\n",
    "# Initializes global_variables in the graph\n",
    "sess.run(tf.global_variables_initializer())\n",
    "\n",
    "for step in range(100):\n",
    "    print(step, sess.run(W))\n",
    "    sess.run(train)"
   ]
  },
  {
   "cell_type": "code",
   "execution_count": 26,
   "metadata": {
    "collapsed": true
   },
   "outputs": [
    {
     "name": "stdout",
     "output_type": "stream",
     "text": [
      "0 37.333332 [(37.333336, 4.6266665)]\n",
      "1 33.84889 [(33.84889, 4.2881775)]\n",
      "2 30.689657 [(30.689657, 3.9812808)]\n",
      "3 27.825287 [(27.825287, 3.703028)]\n",
      "4 25.228262 [(25.228262, 3.4507453)]\n",
      "5 22.873621 [(22.873623, 3.2220092)]\n",
      "6 20.738752 [(20.73875, 3.0146217)]\n",
      "7 18.803137 [(18.803137, 2.8265903)]\n",
      "8 17.048176 [(17.048176, 2.6561086)]\n",
      "9 15.457013 [(15.457014, 2.5015385)]\n",
      "10 14.014359 [(14.01436, 2.361395)]\n",
      "11 12.706352 [(12.706352, 2.2343314)]\n",
      "12 11.520427 [(11.520427, 2.119127)]\n",
      "13 10.445186 [(10.445185, 2.0146751)]\n",
      "14 9.470302 [(9.470302, 1.9199722)]\n",
      "15 8.586407 [(8.586407, 1.8341081)]\n",
      "16 7.785009 [(7.785009, 1.756258)]\n",
      "17 7.0584083 [(7.0584083, 1.685674)]\n",
      "18 6.399624 [(6.399624, 1.6216778)]\n",
      "19 5.8023257 [(5.8023252, 1.5636545)]\n",
      "20 5.260776 [(5.260776, 1.5110468)]\n",
      "21 4.7697697 [(4.7697697, 1.4633491)]\n",
      "22 4.324591 [(4.324591, 1.4201032)]\n",
      "23 3.9209633 [(3.9209635, 1.3808936)]\n",
      "24 3.5550067 [(3.5550067, 1.3453435)]\n",
      "25 3.2232056 [(3.2232056, 1.3131114)]\n",
      "26 2.9223735 [(2.9223735, 1.2838877)]\n",
      "27 2.6496189 [(2.6496186, 1.2573916)]\n",
      "28 2.4023216 [(2.4023216, 1.2333684)]\n",
      "29 2.178105 [(2.178105, 1.2115873)]\n",
      "30 1.9748148 [(1.9748147, 1.1918392)]\n",
      "31 1.7904993 [(1.7904994, 1.1739342)]\n",
      "32 1.623386 [(1.6233861, 1.1577003)]\n",
      "33 1.4718695 [(1.4718695, 1.1429816)]\n",
      "34 1.3344955 [(1.3344957, 1.1296366)]\n",
      "35 1.2099417 [(1.2099419, 1.1175373)]\n",
      "36 1.0970144 [(1.0970144, 1.1065671)]\n",
      "37 0.9946267 [(0.9946267, 1.0966209)]\n",
      "38 0.90179497 [(0.901795, 1.087603)]\n",
      "39 0.8176275 [(0.81762755, 1.0794266)]\n",
      "40 0.7413151 [(0.7413151, 1.0720135)]\n",
      "41 0.67212623 [(0.67212623, 1.0652922)]\n",
      "42 0.609394 [(0.609394, 1.0591983)]\n",
      "43 0.5525169 [(0.5525169, 1.0536731)]\n",
      "44 0.50094914 [(0.50094914, 1.0486636)]\n",
      "45 0.45419374 [(0.45419377, 1.0441216)]\n",
      "46 0.41180158 [(0.41180158, 1.0400037)]\n",
      "47 0.37336722 [(0.37336725, 1.03627)]\n",
      "48 0.33851996 [(0.33852, 1.0328848)]\n",
      "49 0.30692515 [(0.30692515, 1.0298156)]\n",
      "50 0.27827826 [(0.2782783, 1.0270327)]\n",
      "51 0.25230527 [(0.25230527, 1.0245097)]\n",
      "52 0.2287569 [(0.2287569, 1.022222)]\n",
      "53 0.20740573 [(0.20740573, 1.020148)]\n",
      "54 0.18804836 [(0.18804836, 1.0182675)]\n",
      "55 0.17049654 [(0.17049655, 1.0165626)]\n",
      "56 0.15458433 [(0.15458433, 1.0150168)]\n",
      "57 0.14015675 [(0.14015675, 1.0136153)]\n",
      "58 0.12707591 [(0.12707591, 1.0123445)]\n",
      "59 0.11521538 [(0.11521538, 1.0111923)]\n",
      "60 0.10446167 [(0.10446167, 1.0101477)]\n",
      "61 0.09471202 [(0.09471202, 1.0092006)]\n",
      "62 0.08587202 [(0.08587202, 1.0083419)]\n",
      "63 0.07785805 [(0.07785805, 1.0075634)]\n",
      "64 0.07059129 [(0.07059129, 1.0068574)]\n",
      "65 0.06400236 [(0.06400236, 1.0062174)]\n",
      "66 0.05802846 [(0.05802846, 1.005637)]\n",
      "67 0.052612226 [(0.052612226, 1.005111)]\n",
      "68 0.047702473 [(0.047702473, 1.0046339)]\n",
      "69 0.043249767 [(0.043249767, 1.0042014)]\n",
      "70 0.03921318 [(0.03921318, 1.0038093)]\n",
      "71 0.035553534 [(0.035553537, 1.0034539)]\n",
      "72 0.032236177 [(0.03223618, 1.0031315)]\n",
      "73 0.029227654 [(0.029227655, 1.0028392)]\n",
      "74 0.02649951 [(0.02649951, 1.0025742)]\n",
      "75 0.024025917 [(0.024025917, 1.002334)]\n",
      "76 0.021783749 [(0.02178375, 1.0021162)]\n",
      "77 0.01975123 [(0.019751232, 1.0019187)]\n",
      "78 0.017907381 [(0.017907381, 1.0017396)]\n",
      "79 0.016236702 [(0.016236704, 1.0015773)]\n",
      "80 0.014720838 [(0.014720838, 1.00143)]\n",
      "81 0.01334699 [(0.013346991, 1.0012965)]\n",
      "82 0.012100856 [(0.012100856, 1.0011755)]\n",
      "83 0.010971785 [(0.010971785, 1.0010659)]\n",
      "84 0.0099481745 [(0.0099481745, 1.0009663)]\n",
      "85 0.009018898 [(0.009018898, 1.0008761)]\n",
      "86 0.008176883 [(0.008176884, 1.0007943)]\n",
      "87 0.007413149 [(0.007413149, 1.0007201)]\n",
      "88 0.006721576 [(0.006721576, 1.0006529)]\n",
      "89 0.0060940585 [(0.0060940585, 1.000592)]\n",
      "90 0.005525271 [(0.0055252714, 1.0005368)]\n",
      "91 0.0050098896 [(0.0050098896, 1.0004867)]\n",
      "92 0.004542589 [(0.004542589, 1.0004413)]\n",
      "93 0.0041189194 [(0.0041189194, 1.0004001)]\n",
      "94 0.0037339528 [(0.003733953, 1.0003628)]\n",
      "95 0.0033854644 [(0.0033854644, 1.0003289)]\n",
      "96 0.0030694802 [(0.0030694804, 1.0002983)]\n",
      "97 0.0027837753 [(0.0027837753, 1.0002704)]\n",
      "98 0.0025234222 [(0.0025234222, 1.0002451)]\n",
      "99 0.0022875469 [(0.0022875469, 1.0002222)]\n",
      "100 0.0020739238 [(0.0020739238, 1.0002015)]\n"
     ]
    }
   ],
   "source": [
    "# Lab 3 Minimizing Cost\n",
    "# This is optional\n",
    "import tensorflow as tf\n",
    "\n",
    "# tf Graph Input\n",
    "X = [1, 2, 3]\n",
    "Y = [1, 2, 3]\n",
    "\n",
    "# Set wrong model weights\n",
    "W = tf.Variable(5.)\n",
    "\n",
    "# Linear model\n",
    "hypothesis = X * W\n",
    "\n",
    "# Manual gradient\n",
    "gradient = tf.reduce_mean((W * X - Y) * X) * 2\n",
    "\n",
    "# cost/loss function\n",
    "cost = tf.reduce_mean(tf.square(hypothesis - Y))\n",
    "\n",
    "# Minimize: Gradient Descent Optimizer\n",
    "optimizer = tf.train.GradientDescentOptimizer(learning_rate=0.01)\n",
    "\n",
    "# Get gradients\n",
    "gvs = optimizer.compute_gradients(cost, [W])\n",
    "\n",
    "# Optional: modify gradient if necessary\n",
    "# gvs = [(tf.clip_by_value(grad, -1., 1.), var) for grad, var in gvs]\n",
    "\n",
    "# Apply gradients\n",
    "apply_gradients = optimizer.apply_gradients(gvs)\n",
    "\n",
    "# Launch the graph in a session.\n",
    "with tf.Session() as sess:\n",
    "    # Initializes global variables in the graph.\n",
    "    sess.run(tf.global_variables_initializer())\n",
    "\n",
    "    for step in range(101):\n",
    "        gradient_val, gvs_val, _ = sess.run([gradient, gvs, apply_gradients])\n",
    "        print(step, gradient_val, gvs_val)"
   ]
  },
  {
   "cell_type": "markdown",
   "metadata": {},
   "source": [
    "# Practice_1"
   ]
  },
  {
   "cell_type": "code",
   "execution_count": 38,
   "metadata": {},
   "outputs": [
    {
     "name": "stdout",
     "output_type": "stream",
     "text": [
      "0 5.0\n",
      "1 5.0\n",
      "2 1.2666664\n",
      "3 1.0177778\n",
      "4 1.0011852\n",
      "5 1.000079\n",
      "6 1.0000052\n",
      "7 1.0000004\n",
      "8 1.0\n",
      "9 1.0\n",
      "10 1.0\n",
      "11 1.0\n",
      "12 1.0\n",
      "13 1.0\n",
      "14 1.0\n",
      "15 1.0\n",
      "16 1.0\n",
      "17 1.0\n",
      "18 1.0\n",
      "19 1.0\n"
     ]
    }
   ],
   "source": [
    "X = tf.placeholder(tf.float32)\n",
    "Y = tf.placeholder(tf.float32)\n",
    "\n",
    "W = tf.Variable(5.)\n",
    "\n",
    "hypothesis = W*X\n",
    "\n",
    "cost = tf.reduce_mean(tf.square(hypothesis - Y))\n",
    "\n",
    "# learning_rate = 0.1\n",
    "# gradient = tf.reduce_mean((W*X - Y)*X)\n",
    "# descent = W - learning_rate * gradient\n",
    "# update = W.assign(descent)\n",
    "\n",
    "#train = tf.train.GradientDescentOptimizer(learning_rate = 0.1).minimize(cost)\n",
    "train = tf.train.GradientDescentOptimizer(learning_rate=0.1).minimize(cost)\n",
    "\n",
    "with tf.Session() as sess:\n",
    "    sess.run(tf.global_variables_initializer())\n",
    "    print(0,sess.run(W))\n",
    "    for step in range(1,20):\n",
    "        print(step, sess.run(W))\n",
    "        sess.run(train, feed_dict = {X:[1,2,3], Y:[1,2,3]})"
   ]
  },
  {
   "cell_type": "markdown",
   "metadata": {},
   "source": [
    "# Practice_2"
   ]
  },
  {
   "cell_type": "code",
   "execution_count": 5,
   "metadata": {},
   "outputs": [],
   "source": [
    "x_data = [10,9,3,2,11]\n",
    "y_data = [90,80,50,60,40]"
   ]
  },
  {
   "cell_type": "code",
   "execution_count": 6,
   "metadata": {},
   "outputs": [],
   "source": [
    "X = tf.placeholder(tf.float32)\n",
    "Y = tf.placeholder(tf.float32)\n",
    "W = tf.Variable(tf.random_normal([1]))"
   ]
  },
  {
   "cell_type": "code",
   "execution_count": 7,
   "metadata": {},
   "outputs": [],
   "source": [
    "hypothesis = X*W"
   ]
  },
  {
   "cell_type": "code",
   "execution_count": 8,
   "metadata": {},
   "outputs": [],
   "source": [
    "cost = tf.reduce_mean(tf.square(hypothesis - Y))"
   ]
  },
  {
   "cell_type": "code",
   "execution_count": 9,
   "metadata": {},
   "outputs": [],
   "source": [
    "tf_train = tf.train"
   ]
  },
  {
   "cell_type": "code",
   "execution_count": 12,
   "metadata": {},
   "outputs": [],
   "source": [
    "train = tf_train.GradientDescentOptimizer(learning_rate = 0.1).minimize(cost)"
   ]
  },
  {
   "cell_type": "code",
   "execution_count": 19,
   "metadata": {},
   "outputs": [
    {
     "name": "stdout",
     "output_type": "stream",
     "text": [
      "0 [0.94269276]\n",
      "1 [0.94269276]\n",
      "2 [82.26477]\n",
      "3 [-861.07135]\n",
      "4 [10081.629]\n",
      "5 [-116853.7]\n",
      "6 [1355596.1]\n",
      "7 [-15724822.]\n",
      "8 [1.8240805e+08]\n",
      "9 [-2.1159333e+09]\n",
      "10 [2.4544827e+10]\n",
      "11 [-2.8472e+11]\n",
      "12 [3.302752e+12]\n",
      "13 [-3.8311926e+13]\n",
      "14 [4.4441835e+14]\n",
      "15 [-5.1552525e+15]\n",
      "16 [5.9800934e+16]\n",
      "17 [-6.936909e+17]\n",
      "18 [8.046815e+18]\n",
      "19 [-9.334305e+19]\n"
     ]
    }
   ],
   "source": [
    "sess = tf.Session()\n",
    "sess.run(tf.global_variables_initializer())\n",
    "print(0, sess.run(W))\n",
    "\n",
    "for step in range(1, 20):\n",
    "    print(step, sess.run(W))\n",
    "    sess.run(train, feed_dict={X:x_data, Y:y_data})"
   ]
  },
  {
   "cell_type": "code",
   "execution_count": 20,
   "metadata": {},
   "outputs": [
    {
     "name": "stdout",
     "output_type": "stream",
     "text": [
      "[3.248338e+21]\n"
     ]
    }
   ],
   "source": [
    "print(sess.run(hypothesis, feed_dict={X:[3]}))"
   ]
  },
  {
   "cell_type": "code",
   "execution_count": null,
   "metadata": {},
   "outputs": [],
   "source": []
  }
 ],
 "metadata": {
  "kernelspec": {
   "display_name": "Python 3",
   "language": "python",
   "name": "python3"
  },
  "language_info": {
   "codemirror_mode": {
    "name": "ipython",
    "version": 3
   },
   "file_extension": ".py",
   "mimetype": "text/x-python",
   "name": "python",
   "nbconvert_exporter": "python",
   "pygments_lexer": "ipython3",
   "version": "3.7.3"
  }
 },
 "nbformat": 4,
 "nbformat_minor": 2
}
