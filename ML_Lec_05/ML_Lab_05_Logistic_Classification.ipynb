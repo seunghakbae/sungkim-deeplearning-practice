{
 "cells": [
  {
   "cell_type": "markdown",
   "metadata": {},
   "source": [
    "![title](logistic_regression.png)"
   ]
  },
  {
   "cell_type": "code",
   "execution_count": 16,
   "metadata": {},
   "outputs": [],
   "source": [
    "import tensorflow as tf"
   ]
  },
  {
   "cell_type": "code",
   "execution_count": 24,
   "metadata": {
    "scrolled": true
   },
   "outputs": [
    {
     "name": "stdout",
     "output_type": "stream",
     "text": [
      "0 0.7864792\n",
      "200 0.2723582\n",
      "400 0.20957501\n",
      "600 0.16979636\n",
      "800 0.1424654\n",
      "1000 0.12259767\n",
      "1200 0.10753404\n",
      "1400 0.0957351\n",
      "1600 0.08625123\n",
      "1800 0.07846637\n",
      "2000 0.07196415\n",
      "2200 0.06645324\n",
      "2400 0.061724063\n",
      "2600 0.057621796\n",
      "2800 0.05403002\n",
      "3000 0.050859302\n",
      "3200 0.04803991\n",
      "3400 0.045516726\n",
      "3600 0.04324544\n",
      "3800 0.041190203\n",
      "4000 0.039321657\n",
      "4200 0.03761546\n",
      "4400 0.036051374\n",
      "4600 0.034612387\n",
      "4800 0.0332841\n",
      "5000 0.032054167\n",
      "5200 0.030912155\n",
      "5400 0.029848872\n",
      "5600 0.028856471\n",
      "5800 0.027928157\n",
      "6000 0.027057843\n",
      "6200 0.02624031\n",
      "6400 0.025470888\n",
      "6600 0.024745392\n",
      "6800 0.024060296\n",
      "7000 0.023412192\n",
      "7200 0.022798195\n",
      "7400 0.022215685\n",
      "7600 0.021662347\n",
      "7800 0.021135971\n",
      "8000 0.020634701\n",
      "8200 0.02015669\n",
      "8400 0.019700466\n",
      "8600 0.019264458\n",
      "8800 0.018847449\n",
      "9000 0.018448168\n",
      "9200 0.018065538\n",
      "9400 0.017698504\n",
      "9600 0.01734615\n",
      "9800 0.01700761\n",
      "10000 0.016682083\n",
      "\n",
      "Hypothesis:  [[0.03005722]\n",
      " [0.03149816]\n",
      " [0.9986658 ]\n",
      " [0.9655947 ]\n",
      " [0.99878854]\n",
      " [0.99999857]] \n",
      "Correct (Y):  [[0.]\n",
      " [0.]\n",
      " [1.]\n",
      " [1.]\n",
      " [1.]\n",
      " [1.]] \n",
      "Accuracy:  1.0\n"
     ]
    }
   ],
   "source": [
    "x_data = [[1,2], [2,3], [3,1], [4,3], [5,3], [6,2]] # x1과 x2라고 하자. \n",
    "y_data = [[0], [0], [1], [1], [1], [1]] # y값은 언제나 0과 1을 가진다. \n",
    "\n",
    "X = tf.placeholder(tf.float32, shape=[None, 2])\n",
    "Y = tf.placeholder(tf.float32, shape=[None, 1])\n",
    "\n",
    "W = tf.Variable(tf.random_normal([2, 1]), name='weight')\n",
    "b = tf.Variable(tf.random_normal([1]), name='bias')\n",
    "\n",
    "# Hypothesis using sigmoid: tf.div(1., 1. + tf.exp(tf.matmul(X, W)))\n",
    "hypothesis = tf.sigmoid(tf.matmul(X, W) + b)\n",
    "\n",
    "# cost/loss function\n",
    "cost = -tf.reduce_mean(Y * tf.log(hypothesis) + (1 - Y) *\n",
    "                       tf.log(1 - hypothesis))\n",
    "\n",
    "train = tf.train.GradientDescentOptimizer(learning_rate=0.01).minimize(cost)\n",
    "\n",
    "# Accuracy computation\n",
    "# True if hypothesis>0.5 else False\n",
    "predicted = tf.cast(hypothesis > 0.5, dtype=tf.float32)\n",
    "accuracy = tf.reduce_mean(tf.cast(tf.equal(predicted, Y), dtype=tf.float32))\n",
    "\n",
    "# Launch graph\n",
    "with tf.Session() as sess:\n",
    "    # Initialize TensorFlow variables\n",
    "    sess.run(tf.global_variables_initializer())\n",
    "\n",
    "    for step in range(10001):\n",
    "        cost_val, _ = sess.run([cost, train], feed_dict={X: x_data, Y: y_data})\n",
    "        if step % 200 == 0:\n",
    "            print(step, cost_val)\n",
    "\n",
    "    # Accuracy report\n",
    "    h, c, a = sess.run([hypothesis, predicted, accuracy],\n",
    "                       feed_dict={X: x_data, Y: y_data})\n",
    "    print(\"\\nHypothesis: \", h, \"\\nCorrect (Y): \", c, \"\\nAccuracy: \", a)"
   ]
  },
  {
   "cell_type": "code",
   "execution_count": null,
   "metadata": {},
   "outputs": [],
   "source": []
  }
 ],
 "metadata": {
  "kernelspec": {
   "display_name": "Python 3",
   "language": "python",
   "name": "python3"
  },
  "language_info": {
   "codemirror_mode": {
    "name": "ipython",
    "version": 3
   },
   "file_extension": ".py",
   "mimetype": "text/x-python",
   "name": "python",
   "nbconvert_exporter": "python",
   "pygments_lexer": "ipython3",
   "version": "3.7.3"
  }
 },
 "nbformat": 4,
 "nbformat_minor": 2
}
