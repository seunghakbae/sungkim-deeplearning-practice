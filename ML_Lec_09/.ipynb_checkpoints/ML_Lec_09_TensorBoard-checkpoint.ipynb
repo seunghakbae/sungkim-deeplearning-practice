{
 "cells": [
  {
   "cell_type": "code",
   "execution_count": 1,
   "metadata": {},
   "outputs": [],
   "source": [
    "import tensorflow as tf\n",
    "import numpy as np"
   ]
  },
  {
   "cell_type": "code",
   "execution_count": 3,
   "metadata": {},
   "outputs": [],
   "source": [
    "x_data = np.array([[0,0], [0,1], [1,0], [1,1]], dtype=np.float32)\n",
    "y_data = np.array([[0], [1], [1], [0]], dtype=np.float32)"
   ]
  },
  {
   "cell_type": "code",
   "execution_count": 4,
   "metadata": {},
   "outputs": [],
   "source": [
    "X = tf.placeholder(tf.float32, [None,2], name = 'x')\n",
    "Y = tf.placeholder(tf.float32, [None,1], name = \"y\")"
   ]
  },
  {
   "cell_type": "code",
   "execution_count": 6,
   "metadata": {},
   "outputs": [],
   "source": [
    "with tf.name_scope(\"Layer1\"):\n",
    "    W1 = tf.Variable(tf.random_normal([2, 2]), name=\"weight_1\")\n",
    "    b1 = tf.Variable(tf.random_normal([2]), name=\"bias_1\")\n",
    "    layer1 = tf.sigmoid(tf.matmul(X, W1) + b1)\n",
    "\n",
    "    tf.summary.histogram(\"W1\", W1)\n",
    "    tf.summary.histogram(\"b1\", b1)\n",
    "    tf.summary.histogram(\"Layer1\", layer1)"
   ]
  },
  {
   "cell_type": "code",
   "execution_count": 7,
   "metadata": {},
   "outputs": [],
   "source": [
    "with tf.name_scope(\"Layer2\"):\n",
    "    W2 = tf.Variable(tf.random_normal([2, 1]), name=\"weight_2\")\n",
    "    b2 = tf.Variable(tf.random_normal([1]), name=\"bias_2\")\n",
    "    hypothesis = tf.sigmoid(tf.matmul(layer1, W2) + b2)\n",
    "\n",
    "    tf.summary.histogram(\"W2\", W2)\n",
    "    tf.summary.histogram(\"b2\", b2)\n",
    "    tf.summary.histogram(\"Hypothesis\", hypothesis)"
   ]
  },
  {
   "cell_type": "code",
   "execution_count": 8,
   "metadata": {},
   "outputs": [],
   "source": [
    "with tf.name_scope(\"Cost\"):\n",
    "    cost = -tf.reduce_mean(Y * tf.log(hypothesis) + (1 - Y) * tf.log(1 - hypothesis))\n",
    "    tf.summary.scalar(\"Cost\", cost)\n",
    "\n",
    "with tf.name_scope(\"Train\"):\n",
    "    train = tf.train.AdamOptimizer(learning_rate=0.01).minimize(cost)"
   ]
  },
  {
   "cell_type": "code",
   "execution_count": 9,
   "metadata": {},
   "outputs": [
    {
     "data": {
      "text/plain": [
       "<tf.Tensor 'accuracy:0' shape=() dtype=string>"
      ]
     },
     "execution_count": 9,
     "metadata": {},
     "output_type": "execute_result"
    }
   ],
   "source": [
    "predicted = tf.cast(hypothesis > 0.5, dtype=tf.float32)\n",
    "accuracy = tf.reduce_mean(tf.cast(tf.equal(predicted, Y), dtype=tf.float32))\n",
    "tf.summary.scalar(\"accuracy\", accuracy)"
   ]
  },
  {
   "cell_type": "code",
   "execution_count": 12,
   "metadata": {
    "scrolled": true
   },
   "outputs": [
    {
     "name": "stdout",
     "output_type": "stream",
     "text": [
      "0 1.0611503\n",
      "100 0.69620323\n",
      "200 0.6886364\n",
      "300 0.6724304\n",
      "400 0.62467325\n",
      "500 0.543219\n",
      "600 0.45228285\n",
      "700 0.3678339\n",
      "800 0.29878375\n",
      "900 0.24508844\n",
      "1000 0.20366348\n",
      "1100 0.17145607\n",
      "1200 0.1460877\n",
      "1300 0.12581934\n",
      "1400 0.10939804\n",
      "1500 0.09591903\n",
      "1600 0.08472207\n",
      "1700 0.075319834\n",
      "1800 0.067347154\n",
      "1900 0.06052681\n",
      "2000 0.05464579\n",
      "2100 0.04953801\n",
      "2200 0.04507281\n",
      "2300 0.041146193\n",
      "2400 0.037674487\n",
      "2500 0.03458982\n",
      "2600 0.031836618\n",
      "2700 0.029369086\n",
      "2800 0.0271492\n",
      "2900 0.025144946\n",
      "3000 0.023329573\n",
      "3100 0.021680336\n",
      "3200 0.020177789\n",
      "3300 0.018805386\n",
      "3400 0.017548813\n",
      "3500 0.016395736\n",
      "3600 0.015335349\n",
      "3700 0.01435837\n",
      "3800 0.013456576\n",
      "3900 0.012622731\n",
      "4000 0.011850471\n",
      "4100 0.011134189\n",
      "4200 0.010468891\n",
      "4300 0.009850116\n",
      "4400 0.009273911\n",
      "4500 0.008736705\n",
      "4600 0.008235292\n",
      "4700 0.0077668503\n",
      "4800 0.007328705\n",
      "4900 0.006918575\n",
      "5000 0.006534295\n",
      "5100 0.006173974\n",
      "5200 0.0058358447\n",
      "5300 0.0055182795\n",
      "5400 0.00521985\n",
      "5500 0.0049392343\n",
      "5600 0.00467513\n",
      "5700 0.004426488\n",
      "5800 0.0041922363\n",
      "5900 0.0039714794\n",
      "6000 0.0037632505\n",
      "6100 0.0035668246\n",
      "6200 0.0033814455\n",
      "6300 0.0032063145\n",
      "6400 0.0030409032\n",
      "6500 0.002884593\n",
      "6600 0.002736797\n",
      "6700 0.0025970333\n",
      "6800 0.002464775\n",
      "6900 0.0023396309\n",
      "7000 0.0022211943\n",
      "7100 0.0021090603\n",
      "7200 0.0020028078\n",
      "7300 0.0019021517\n",
      "7400 0.0018068061\n",
      "7500 0.0017164415\n",
      "7600 0.0016306976\n",
      "7700 0.001549484\n",
      "7800 0.0014723816\n",
      "7900 0.0013992699\n",
      "8000 0.0013299391\n",
      "8100 0.00126412\n",
      "8200 0.0012016625\n",
      "8300 0.0011423569\n",
      "8400 0.0010860686\n",
      "8500 0.0010326179\n",
      "8600 0.000981885\n",
      "8700 0.00093369064\n",
      "8800 0.0008878851\n",
      "8900 0.0008443935\n",
      "9000 0.0008031261\n",
      "9100 0.0007637992\n",
      "9200 0.00072654674\n",
      "9300 0.0006911\n",
      "9400 0.0006573995\n",
      "9500 0.00062537\n",
      "9600 0.0005949223\n",
      "9700 0.0005660112\n",
      "9800 0.00053848757\n",
      "9900 0.0005123215\n",
      "10000 0.00048746812\n",
      "\n",
      "Hypothesis:\n",
      "[[5.5705494e-04]\n",
      " [9.9962640e-01]\n",
      " [9.9962509e-01]\n",
      " [6.4275501e-04]] \n",
      "Predicted:\n",
      "[[0.]\n",
      " [1.]\n",
      " [1.]\n",
      " [0.]] \n",
      "Accuracy:\n",
      "1.0\n"
     ]
    }
   ],
   "source": [
    "# Launch graph\n",
    "with tf.Session() as sess:\n",
    "    # tensorboard --logdir=./logs/xor_logs\n",
    "    merged_summary = tf.summary.merge_all()\n",
    "    writer = tf.summary.FileWriter(\"./logs/xor_logs\")\n",
    "    writer.add_graph(sess.graph)  # Show the graph\n",
    "\n",
    "    # Initialize TensorFlow variables\n",
    "    sess.run(tf.global_variables_initializer())\n",
    "\n",
    "    for step in range(10001):\n",
    "        _, summary, cost_val = sess.run(\n",
    "            [train, merged_summary, cost], feed_dict={X: x_data, Y: y_data}\n",
    "        )\n",
    "        writer.add_summary(summary, global_step=step)\n",
    "\n",
    "        if step % 100 == 0:\n",
    "            print(step, cost_val)\n",
    "\n",
    "    # Accuracy report\n",
    "    h, p, a = sess.run(\n",
    "        [hypothesis, predicted, accuracy], feed_dict={X: x_data, Y: y_data}\n",
    "    )\n",
    "    \n",
    "    print(f\"\\nHypothesis:\\n{h} \\nPredicted:\\n{p} \\nAccuracy:\\n{a}\")"
   ]
  },
  {
   "cell_type": "code",
   "execution_count": null,
   "metadata": {},
   "outputs": [],
   "source": []
  }
 ],
 "metadata": {
  "kernelspec": {
   "display_name": "Python 3",
   "language": "python",
   "name": "python3"
  },
  "language_info": {
   "codemirror_mode": {
    "name": "ipython",
    "version": 3
   },
   "file_extension": ".py",
   "mimetype": "text/x-python",
   "name": "python",
   "nbconvert_exporter": "python",
   "pygments_lexer": "ipython3",
   "version": "3.7.3"
  }
 },
 "nbformat": 4,
 "nbformat_minor": 2
}
